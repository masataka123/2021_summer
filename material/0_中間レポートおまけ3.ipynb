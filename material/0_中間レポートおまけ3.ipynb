{
 "cells": [
  {
   "cell_type": "markdown",
   "metadata": {},
   "source": [
    "中間レポート おまけ問題 (3).\n",
    "\n",
    "$\\sqrt[3]{3}$の小数第10位までを求めるプログラムを作成せよ."
   ]
  },
  {
   "cell_type": "markdown",
   "metadata": {},
   "source": [
    "はじめに$\\sqrt[3]{3}$の小数第10位までを見ておく."
   ]
  },
  {
   "cell_type": "code",
   "execution_count": 1,
   "metadata": {},
   "outputs": [
    {
     "name": "stdout",
     "output_type": "stream",
     "text": [
      "1.4422495703\n"
     ]
    }
   ],
   "source": [
    "print('{:.10f}'.format(pow(3,1/3)))"
   ]
  },
  {
   "cell_type": "markdown",
   "metadata": {},
   "source": [
    "解答1. 二分法\n",
    "\n",
    "$f(x) = x^3 -3$として, $f(c)=0$となる$c$を求めれば良い.\n",
    "中間値の定理の証明を思い出すとこのような感じでやれば良い\n",
    "\n",
    "$a_1=0, b_1=2$とおく.\n",
    "$c_1=\\frac{b_1+a_1}{2}$として, $f(c_1)>0$なら$b_2 =c_1, a_2=a_1$とし, そうでないときは$a_2=c_1, b_2=b_1$とする．\n",
    "これを$b_{n}-a_{n}$が$10^{-11}$ぐらい小さくなるまで行えば良い\n"
   ]
  },
  {
   "cell_type": "code",
   "execution_count": 2,
   "metadata": {},
   "outputs": [
    {
     "name": "stdout",
     "output_type": "stream",
     "text": [
      "1.4422495703\n"
     ]
    }
   ],
   "source": [
    "def f(x):\n",
    "    return x**3 - 3\n",
    "a=0\n",
    "b=2\n",
    "while b-a > 10**(-11):\n",
    "    c=(b+a)/2\n",
    "    if f(c)>0:\n",
    "        b=c\n",
    "    else:\n",
    "        a=c\n",
    "print('{:.10f}'.format((c)))"
   ]
  },
  {
   "cell_type": "markdown",
   "metadata": {},
   "source": [
    "解答2. ニュートン法\n",
    "\n",
    "$f(x)=x^3 - 3, f'(x)=3x^2$とおき, ニュートン法を使う. (授業でやらなかったが教科書の定理2.3.3にある.)\n",
    "\n",
    "これは$c_1=2$として$c_{n+1} = c_n - \\frac{f(c_n)}{f'(c_n)}$とし, 十分な回数for文で回せば良い.\n",
    "\n",
    "([このpdf](http://www.math.ritsumei.ac.jp/yasutomi/jugyo/Numerical_Analysis/note2.pdf)によると何回for文を回せば良いかがわかっているらしいです.)"
   ]
  },
  {
   "cell_type": "code",
   "execution_count": 3,
   "metadata": {},
   "outputs": [
    {
     "name": "stdout",
     "output_type": "stream",
     "text": [
      "1.4422495703\n"
     ]
    }
   ],
   "source": [
    "def f(x):\n",
    "    return x**3 - 3\n",
    "def g(x):\n",
    "    return 3*(x**2)\n",
    "\n",
    "c=2\n",
    "for i in range(10000):\n",
    "    c=c-f(c)/g(c)\n",
    "\n",
    "print('{:.10f}'.format((c)))"
   ]
  },
  {
   "cell_type": "markdown",
   "metadata": {},
   "source": [
    "解答3. PythonのPow関数のソースコードをそのまま書いてみる.\n",
    "\n",
    "$$\\sqrt[3]{3} = e^{\\log \\sqrt[3]{3}} = e^{\\frac{1}{3} \\log 3}$$\n",
    "なので, $e^{x}$と$\\log (1+x)$をベキ級数展開してやって合成すれば解答が得られる.\n",
    "おそらくPythonやc++, Excelなどのpow関数はこうやって作られていると思われます.\n",
    "\n",
    "ただ$\\log (1+x)$を普通に実装すると$\\log 3$を求めることはできない.(テイラー展開の各項が大きくなりすぎるから.)\n",
    "そこでちょっとした工夫を用いる. これはネットで調べたら出てきた.\n",
    "$$\n",
    "\\log\\left(\\frac{1+x}{1-x}\\right) = \\sum_{n=1}^{\\infty} \\frac{(-1)^{n-1}x^n}{n} - \\frac{(-1)^{n-1}(-x)^n}{n}\n",
    "= \\sum_{k=0}^{\\infty} \\frac{2x^{2k+1}}{2k+1}\n",
    "$$\n",
    "に$x=\\frac{1}{2}$を代入すれば$\\log 3$を得る."
   ]
  },
  {
   "cell_type": "code",
   "execution_count": 4,
   "metadata": {},
   "outputs": [
    {
     "name": "stdout",
     "output_type": "stream",
     "text": [
      "1.4422495703\n"
     ]
    }
   ],
   "source": [
    "N=10**5\n",
    "def exp(x): ##exp(x)\n",
    "    y=1\n",
    "    t=1\n",
    "    for i in range(1,N):\n",
    "        t=(t*x)/i\n",
    "        y+=t\n",
    "    return y\n",
    "def log3(x): ##\\log(\\frac{1+x}{1-x})\n",
    "    y=2*x\n",
    "    t=2*x\n",
    "    for i in range(1,N):\n",
    "        t=(t*x*x*(2*i-1))/(2*i+1)\n",
    "        y+=t\n",
    "    return y\n",
    "\n",
    "c=exp(log3(1/2)/3)\n",
    "print('{:.10f}'.format((c)))"
   ]
  },
  {
   "cell_type": "code",
   "execution_count": null,
   "metadata": {},
   "outputs": [],
   "source": []
  }
 ],
 "metadata": {
  "kernelspec": {
   "display_name": "python 3.6.3",
   "language": "python",
   "name": "python3.6"
  },
  "language_info": {
   "codemirror_mode": {
    "name": "ipython",
    "version": 3
   },
   "file_extension": ".py",
   "mimetype": "text/x-python",
   "name": "python",
   "nbconvert_exporter": "python",
   "pygments_lexer": "ipython3",
   "version": "3.6.3"
  },
  "toc": {
   "base_numbering": 1,
   "nav_menu": {},
   "number_sections": true,
   "sideBar": true,
   "skip_h1_title": false,
   "title_cell": "Table of Contents",
   "title_sidebar": "Contents",
   "toc_cell": false,
   "toc_position": {},
   "toc_section_display": true,
   "toc_window_display": false
  }
 },
 "nbformat": 4,
 "nbformat_minor": 2
}
